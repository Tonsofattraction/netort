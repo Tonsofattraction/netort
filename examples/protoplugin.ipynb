{
 "cells": [
  {
   "cell_type": "code",
   "execution_count": 1,
   "metadata": {
    "collapsed": true
   },
   "outputs": [],
   "source": [
    "from netort.data_manager import DataSession\n",
    "import numpy as np\n",
    "import logging\n",
    "logging.basicConfig(format='%(levelname)s:%(message)s', level=logging.DEBUG)\n",
    "\n",
    "def get_uploader(data_session, column_mapping, hostname, source):\n",
    "    \"\"\"\n",
    "\n",
    "    :type data_session: DataSession\n",
    "    \"\"\"\n",
    "    # router = {col_name: data_session.new_tank_metric('metrics', metric_name,\n",
    "    #                                                  hostname, group, source)\n",
    "    #           for col_name, (metric_name, group) in column_mapping}\n",
    "    _router = {}\n",
    "    def get_router(tags):\n",
    "        if set(tags) - set(_router.keys()):\n",
    "            [_router.setdefault(tag,\n",
    "                               {col_name:\n",
    "                                    data_session.new_tank_metric('metrics',\n",
    "                                                                 name,\n",
    "                                                                 hostname,\n",
    "                                                                 group,\n",
    "                                                                 source,\n",
    "                                                                 ammo_tag=tag)\n",
    "                                for col_name, (name, group) in column_mapping.items()})\n",
    "             for tag in tags]\n",
    "        return _router\n",
    "    \n",
    "    def upload_df(df):\n",
    "        router = get_router(df.tag.unique().tolist())\n",
    "        for tag, df_tag in df.groupby('tag'):\n",
    "            for col_name, metric in router[tag].items():\n",
    "                df_tag['value'] = df_tag[col_name]\n",
    "                metric.put(df_tag)\n",
    "                \n",
    "    return upload_df"
   ]
  },
  {
   "cell_type": "code",
   "execution_count": 2,
   "metadata": {
    "collapsed": false
   },
   "outputs": [
    {
     "name": "stderr",
     "output_type": "stream",
     "text": [
      "INFO:Created new local data session: job_ef674818-acda-4ec6-9fb8-cf34d0140121\n"
     ]
    },
    {
     "name": "stderr",
     "output_type": "stream",
     "text": [
      "DEBUG:Luna client local id: client_c5c63521-a72d-4600-97b7-a8e6a9e98964\n"
     ]
    },
    {
     "name": "stderr",
     "output_type": "stream",
     "text": [
      "DEBUG:No subscribers/callbacks for metrics yet... skipped metrics\n"
     ]
    },
    {
     "name": "stderr",
     "output_type": "stream",
     "text": [
      "DEBUG:Metrics for subscriber subscriber_5311a907-da0a-48cb-b75c-8057585ab15f not found\n"
     ]
    },
    {
     "name": "stderr",
     "output_type": "stream",
     "text": [
      "DEBUG:DataSession clients: [<netort.data_manager.clients.luna.LunaClient object at 0x10a075b10>]\n"
     ]
    },
    {
     "name": "stderr",
     "output_type": "stream",
     "text": [
      "DEBUG:DataSession subscribers:                                                                                           callback  \\\nsubscriber_5311a907-da0a-48cb-b75c-8057585ab15f  <bound method LunaClient.put of <netort.data_m...   \n\n                                                    type  \nsubscriber_5311a907-da0a-48cb-b75c-8057585ab15f  __ANY__  \n"
     ]
    }
   ],
   "source": [
    "from netort.data_manager import DataSession\n",
    "clients = [{'type': 'luna', 'api_address': 'https://volta-back.yandex-team.ru/'}]\n",
    "data_session = DataSession({'clients': clients})\n",
    "col_map = {name: (name, 'fractions') for name in ['connect_time', 'send_time',\n",
    "           'latency', 'receive_time',\n",
    "           'interval_event']}\n",
    "uploader = get_uploader(data_session, col_map, 'localhost', 'tank')"
   ]
  },
  {
   "cell_type": "code",
   "execution_count": 3,
   "metadata": {},
   "outputs": [
    {
     "name": "stderr",
     "output_type": "stream",
     "text": [
      "DEBUG:Luna client processing took 1003.53 ms\n"
     ]
    },
    {
     "name": "stderr",
     "output_type": "stream",
     "text": [
      "DEBUG:No subscribers/callbacks for metrics yet... skipped metrics\n"
     ]
    },
    {
     "name": "stderr",
     "output_type": "stream",
     "text": [
      "WARNING:Failed to import `boto` package. Install `boto`, otherwise S3 file paths opener wont work\nTraceback (most recent call last):\n  File \"/Users/fomars/dev/netort/netort/netort/resource.py\", line 16, in <module>\n    import boto\nImportError: No module named boto\n"
     ]
    }
   ],
   "source": [
    "from yandextank.plugins.Phantom.reader import string_to_df_microsec\n",
    "with open('/Users/fomars/dev/netort/tmp/phout_tagged.log') as f:\n",
    "    chunk = f.read()\n",
    "df = string_to_df_microsec(chunk)"
   ]
  },
  {
   "cell_type": "code",
   "execution_count": 4,
   "metadata": {},
   "outputs": [
    {
     "name": "stderr",
     "output_type": "stream",
     "text": [
      "DEBUG:Found subscribers for this metric, subscribing...:                                                                                           callback  \\\nsubscriber_5311a907-da0a-48cb-b75c-8057585ab15f  <bound method LunaClient.put of <netort.data_m...   \n\n                                                    type  \nsubscriber_5311a907-da0a-48cb-b75c-8057585ab15f  __ANY__  \n"
     ]
    },
    {
     "name": "stderr",
     "output_type": "stream",
     "text": [
      "DEBUG:Found subscribers for this metric, subscribing...:                                                                                           callback  \\\nsubscriber_5311a907-da0a-48cb-b75c-8057585ab15f  <bound method LunaClient.put of <netort.data_m...   \n\n                                                    type  \nsubscriber_5311a907-da0a-48cb-b75c-8057585ab15f  __ANY__  \n"
     ]
    },
    {
     "name": "stderr",
     "output_type": "stream",
     "text": [
      "DEBUG:Found subscribers for this metric, subscribing...:                                                                                           callback  \\\nsubscriber_5311a907-da0a-48cb-b75c-8057585ab15f  <bound method LunaClient.put of <netort.data_m...   \n\n                                                    type  \nsubscriber_5311a907-da0a-48cb-b75c-8057585ab15f  __ANY__  \n"
     ]
    },
    {
     "name": "stderr",
     "output_type": "stream",
     "text": [
      "DEBUG:Found subscribers for this metric, subscribing...:                                                                                           callback  \\\nsubscriber_5311a907-da0a-48cb-b75c-8057585ab15f  <bound method LunaClient.put of <netort.data_m...   \n\n                                                    type  \nsubscriber_5311a907-da0a-48cb-b75c-8057585ab15f  __ANY__  \n"
     ]
    },
    {
     "name": "stderr",
     "output_type": "stream",
     "text": [
      "DEBUG:Found subscribers for this metric, subscribing...:                                                                                           callback  \\\nsubscriber_5311a907-da0a-48cb-b75c-8057585ab15f  <bound method LunaClient.put of <netort.data_m...   \n\n                                                    type  \nsubscriber_5311a907-da0a-48cb-b75c-8057585ab15f  __ANY__  \n"
     ]
    },
    {
     "name": "stderr",
     "output_type": "stream",
     "text": [
      "DEBUG:Found subscribers for this metric, subscribing...:                                                                                           callback  \\\nsubscriber_5311a907-da0a-48cb-b75c-8057585ab15f  <bound method LunaClient.put of <netort.data_m...   \n\n                                                    type  \nsubscriber_5311a907-da0a-48cb-b75c-8057585ab15f  __ANY__  \n"
     ]
    },
    {
     "name": "stderr",
     "output_type": "stream",
     "text": [
      "DEBUG:Found subscribers for this metric, subscribing...:                                                                                           callback  \\\nsubscriber_5311a907-da0a-48cb-b75c-8057585ab15f  <bound method LunaClient.put of <netort.data_m...   \n\n                                                    type  \nsubscriber_5311a907-da0a-48cb-b75c-8057585ab15f  __ANY__  \n"
     ]
    },
    {
     "name": "stderr",
     "output_type": "stream",
     "text": [
      "DEBUG:Found subscribers for this metric, subscribing...:                                                                                           callback  \\\nsubscriber_5311a907-da0a-48cb-b75c-8057585ab15f  <bound method LunaClient.put of <netort.data_m...   \n\n                                                    type  \nsubscriber_5311a907-da0a-48cb-b75c-8057585ab15f  __ANY__  \n"
     ]
    },
    {
     "name": "stderr",
     "output_type": "stream",
     "text": [
      "DEBUG:Found subscribers for this metric, subscribing...:                                                                                           callback  \\\nsubscriber_5311a907-da0a-48cb-b75c-8057585ab15f  <bound method LunaClient.put of <netort.data_m...   \n\n                                                    type  \nsubscriber_5311a907-da0a-48cb-b75c-8057585ab15f  __ANY__  \n"
     ]
    },
    {
     "name": "stderr",
     "output_type": "stream",
     "text": [
      "DEBUG:Found subscribers for this metric, subscribing...:                                                                                           callback  \\\nsubscriber_5311a907-da0a-48cb-b75c-8057585ab15f  <bound method LunaClient.put of <netort.data_m...   \n\n                                                    type  \nsubscriber_5311a907-da0a-48cb-b75c-8057585ab15f  __ANY__  \n"
     ]
    },
    {
     "name": "stderr",
     "output_type": "stream",
     "text": [
      "/Users/fomars/dev/yandex-tank/.env/lib/python2.7/site-packages/ipykernel_launcher.py:33: SettingWithCopyWarning: \nA value is trying to be set on a copy of a slice from a DataFrame.\nTry using .loc[row_indexer,col_indexer] = value instead\n\nSee the caveats in the documentation: http://pandas.pydata.org/pandas-docs/stable/indexing.html#indexing-view-versus-copy\n"
     ]
    },
    {
     "name": "stderr",
     "output_type": "stream",
     "text": [
      "/Users/fomars/dev/netort/netort/netort/data_manager/common/interfaces.py:41: SettingWithCopyWarning: \nA value is trying to be set on a copy of a slice from a DataFrame.\nTry using .loc[row_indexer,col_indexer] = value instead\n\nSee the caveats in the documentation: http://pandas.pydata.org/pandas-docs/stable/indexing.html#indexing-view-versus-copy\n  df['type'] = self.type\n"
     ]
    },
    {
     "name": "stderr",
     "output_type": "stream",
     "text": [
      "/Users/fomars/dev/netort/netort/netort/data_manager/common/interfaces.py:42: SettingWithCopyWarning: \nA value is trying to be set on a copy of a slice from a DataFrame.\nTry using .loc[row_indexer,col_indexer] = value instead\n\nSee the caveats in the documentation: http://pandas.pydata.org/pandas-docs/stable/indexing.html#indexing-view-versus-copy\n  df['metric_local_id'] = self.local_id\nDEBUG:Luna client processing took 1036.18 ms\n"
     ]
    },
    {
     "name": "stderr",
     "output_type": "stream",
     "text": [
      "DEBUG:Routing cycle took 1030.22 ms\n"
     ]
    },
    {
     "name": "stderr",
     "output_type": "stream",
     "text": [
      "DEBUG:Prepared create_job request:\n-----------QUERY START-----------\nPOST https://volta-back.yandex-team.ru//create_job/\nUser-Agent: Uploader/0.2.8, \nContent-Length: 27\nContent-Type: application/x-www-form-urlencoded\n\ntest_start=1547034076999414\n-----------QUERY END-----------\n"
     ]
    },
    {
     "name": "stderr",
     "output_type": "stream",
     "text": [
      "DEBUG:Luna client processing took 1016.80 ms\n"
     ]
    },
    {
     "name": "stderr",
     "output_type": "stream",
     "text": [
      "DEBUG:Starting new HTTPS connection (1): volta-back.yandex-team.ru\n"
     ]
    },
    {
     "name": "stderr",
     "output_type": "stream",
     "text": [
      "Exception in thread Thread-4:\nTraceback (most recent call last):\n  File \"/System/Library/Frameworks/Python.framework/Versions/2.7/lib/python2.7/threading.py\", line 810, in __bootstrap_inner\n    self.run()\n  File \"/Users/fomars/dev/netort/netort/netort/data_manager/router.py\", line 29, in run\n    self.__route()\n  File \"/Users/fomars/dev/netort/netort/netort/data_manager/router.py\", line 44, in __route\n    self.routing_buffer[type_] = pd.concat([self.routing_buffer[type_], df], sort=False)\nTypeError: concat() got an unexpected keyword argument 'sort'\n\n"
     ]
    },
    {
     "name": "stderr",
     "output_type": "stream",
     "text": [
      "DEBUG:Luna client processing took 1185.31 ms\n"
     ]
    }
   ],
   "source": [
    "uploader(df)"
   ]
  },
  {
   "cell_type": "code",
   "execution_count": null,
   "metadata": {},
   "outputs": [],
   "source": [
    ""
   ]
  }
 ],
 "metadata": {
  "kernelspec": {
   "display_name": "Python 2",
   "language": "python",
   "name": "python2"
  },
  "language_info": {
   "codemirror_mode": {
    "name": "ipython",
    "version": 2.0
   },
   "file_extension": ".py",
   "mimetype": "text/x-python",
   "name": "python",
   "nbconvert_exporter": "python",
   "pygments_lexer": "ipython2",
   "version": "2.7.6"
  }
 },
 "nbformat": 4,
 "nbformat_minor": 0
}