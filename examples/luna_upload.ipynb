{
 "cells": [
  {
   "cell_type": "code",
   "execution_count": 2,
   "metadata": {},
   "outputs": [],
   "source": [
    "import numpy as np\n",
    "import pandas as pd\n",
    "from time import time\n",
    "from netort.data_manager import DataSession\n",
    "import logging\n",
    "logging.basicConfig(format='%(levelname)s:%(message)s', level=logging.INFO)\n",
    "%config Application.log_level=\"INFO\""
   ]
  },
  {
   "cell_type": "code",
   "execution_count": null,
   "metadata": {},
   "outputs": [],
   "source": [
    "# импортируем пхаут\n",
    "phout_columns = [\n",
    "    'time', 'tag', 'interval_real',\n",
    "    'connect_time', 'send_time',\n",
    "    'latency', 'receive_time',\n",
    "    'interval_event', 'size_out',\n",
    "    'size_in', 'net_code', 'proto_code']\n",
    "data = pd.read_csv(\n",
    "    \"phout.log\",\n",
    "    sep='\\t', names=phout_columns)\n",
    "data[['interval_real',\n",
    "    'connect_time', 'send_time',\n",
    "    'latency', 'receive_time',\n",
    "    'interval_event']]/=1000\n",
    "data['ts'] = (data[\"time\"] * 1000000 + data[\"interval_real\"]).astype(int)\n",
    "data['ts'] -= data[\"ts\"][0]\n",
    "data.size"
   ]
  },
  {
   "cell_type": "code",
   "execution_count": null,
   "metadata": {
    "scrolled": true
   },
   "outputs": [],
   "source": [
    "def upload_metric(data, name, group=None):\n",
    "    metric_meta = {\n",
    "        'type': 'metrics',\n",
    "        'name': name,\n",
    "        'hostname': 'localhost',\n",
    "        'source': 'Jupyter'\n",
    "    }\n",
    "    if group:\n",
    "        metric_meta.update({'group': group})\n",
    "    metric_obj = data_session.new_metric(metric_meta)\n",
    "    df = pd.DataFrame()\n",
    "    df['ts'] = data['ts']\n",
    "    df['value'] = data[name]\n",
    "    chunk_count = df.size/1000\n",
    "    if chunk_count:\n",
    "        for chunk in np.array_split(df, chunk_count):\n",
    "            metric_obj.put(chunk)\n",
    "    else:\n",
    "        metric_obj.put(df)"
   ]
  },
  {
   "cell_type": "code",
   "execution_count": null,
   "metadata": {},
   "outputs": [],
   "source": [
    "config = {\n",
    "    'clients': [\n",
    "        {\n",
    "            'type': 'luna',\n",
    "            'api_address': 'https://volta-back.common-int.yandex-team.ru',\n",
    "            'user_agent': 'Jupyter Test',\n",
    "        },\n",
    "        {\n",
    "            'type': 'local_storage',\n",
    "        }\n",
    "    ],\n",
    "    'test_start': int(time()*1e6),\n",
    "    'artifacts_base_dir': './logs'\n",
    "}\n",
    "data_session = DataSession(config=config)\n"
   ]
  },
  {
   "cell_type": "code",
   "execution_count": null,
   "metadata": {},
   "outputs": [],
   "source": [
    "\n",
    "upload_metric(data, 'interval_real')\n",
    "\n",
    "for key in ['connect_time', 'send_time',\n",
    "    'latency', 'receive_time',\n",
    "    'interval_event']:\n",
    "    upload_metric(data, key, group='fractions')\n",
    "    \n",
    "for key in ['size_out', 'size_in']:\n",
    "    upload_metric(data, key, group='size')"
   ]
  },
  {
   "cell_type": "code",
   "execution_count": null,
   "metadata": {},
   "outputs": [],
   "source": [
    "data_session.close()"
   ]
  },
  {
   "cell_type": "code",
   "execution_count": 18,
   "metadata": {},
   "outputs": [
    {
     "data": {
      "text/html": [
       "<div>\n",
       "<style scoped>\n",
       "    .dataframe tbody tr th:only-of-type {\n",
       "        vertical-align: middle;\n",
       "    }\n",
       "\n",
       "    .dataframe tbody tr th {\n",
       "        vertical-align: top;\n",
       "    }\n",
       "\n",
       "    .dataframe thead th {\n",
       "        text-align: right;\n",
       "    }\n",
       "</style>\n",
       "<table border=\"1\" class=\"dataframe\">\n",
       "  <thead>\n",
       "    <tr style=\"text-align: right;\">\n",
       "      <th></th>\n",
       "      <th>ts</th>\n",
       "      <th>value</th>\n",
       "    </tr>\n",
       "  </thead>\n",
       "  <tbody>\n",
       "    <tr>\n",
       "      <th>0</th>\n",
       "      <td>0</td>\n",
       "      <td>log message 1</td>\n",
       "    </tr>\n",
       "  </tbody>\n",
       "</table>\n",
       "</div>"
      ],
      "text/plain": [
       "   ts          value\n",
       "0   0  log message 1"
      ]
     },
     "execution_count": 18,
     "metadata": {},
     "output_type": "execute_result"
    }
   ],
   "source": [
    "df = pd.DataFrame([\n",
    "        [0, \"log message 1\"],\n",
    "        [11345, \"my event number 1\"],\n",
    "        [100345, \"my event number 2\"],\n",
    "        [102234, \"my event number 3\"],\n",
    "        [103536, \"my event number 4\"],\n",
    "    ],\n",
    "    columns=[\"ts\", \"value\"])\n",
    "df"
   ]
  },
  {
   "cell_type": "code",
   "execution_count": null,
   "metadata": {},
   "outputs": [],
   "source": [
    "np.random.random_sample()"
   ]
  }
 ],
 "metadata": {
  "kernelspec": {
   "display_name": "Python 3",
   "language": "python",
   "name": "python3"
  },
  "language_info": {
   "codemirror_mode": {
    "name": "ipython",
    "version": 3
   },
   "file_extension": ".py",
   "mimetype": "text/x-python",
   "name": "python",
   "nbconvert_exporter": "python",
   "pygments_lexer": "ipython3",
   "version": "3.7.2"
  }
 },
 "nbformat": 4,
 "nbformat_minor": 2
}
